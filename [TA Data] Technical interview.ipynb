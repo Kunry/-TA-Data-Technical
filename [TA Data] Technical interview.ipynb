{
 "cells": [
  {
   "cell_type": "code",
   "execution_count": 2,
   "metadata": {},
   "outputs": [
    {
     "name": "stdout",
     "output_type": "stream",
     "text": [
      "limit\n"
     ]
    }
   ],
   "source": [
    "import Connect\n",
    "\n",
    "url = \"https://es.wikipedia.org/wiki/Copa_Mundial_de_F%C3%BAtbol_de_2018#Cuartos_de_final\"\n",
    "#server = cup_Rusia_2018_goals_locals(\"https://es.wikipedia.org/wiki/Copa_Mundial_de_F%C3%BAtbol_de_2018#Cuartos_de_final\")\n",
    "\n",
    "server_Firefox = Connect.connect_Firefox(url).start_server()\n",
    "server_Chorme = Connect.connect_Chrome(url).start_server()"
   ]
  },
  {
   "cell_type": "code",
   "execution_count": 4,
   "metadata": {
    "scrolled": false
   },
   "outputs": [
    {
     "data": {
      "text/plain": [
       "{'local': 91, 'non_momber': 78}"
      ]
     },
     "execution_count": 4,
     "metadata": {},
     "output_type": "execute_result"
    }
   ],
   "source": [
    "import re\n",
    "label_b = server_Chorme[\"server\"].select(\".autocollapse tbody tr td span b\")\n",
    "def goals_local(start):\n",
    "    score_local = 0\n",
    "    score_non_member = 0\n",
    "    for string in start:\n",
    "        cleansed = re.sub('[^0-9:]', \"\", string.text).split(\":\")\n",
    "        if(str.isnumeric(cleansed[0])):\n",
    "            score_local += int(cleansed[0])\n",
    "            score_non_member += int(cleansed[1])\n",
    "    return {\"local\":score_local, \"non_momber\":score_non_member}\n",
    "\n",
    "\n",
    "goals_local(label_b)\n"
   ]
  },
  {
   "cell_type": "code",
   "execution_count": 5,
   "metadata": {},
   "outputs": [
    {
     "name": "stdout",
     "output_type": "stream",
     "text": [
      "['Denís Chéryshev', 'Cristiano Ronaldo', 'Kylian Mbappé', 'Romelu Lukaku', 'Edinson Cavani', 'Antoine Griezmann', 'Eden Hazard', 'Harry Kane', 'Artiom Dziuba', 'Luis Alberto Suárez']\n"
     ]
    }
   ],
   "source": [
    "dic = {}\n",
    "for i in range(0, server_Firefox[\"number\"]):\n",
    "    element_by_id = server_Firefox[\"server\"].select(\"#collapsibleTable\"+ str(i) +\" tbody tr\")[1].select(\"td\")[1]\n",
    "    name = \"\"\n",
    "\n",
    "    for children in element_by_id:\n",
    "        if(children.name == \"a\" and children.text != \"\"):\n",
    "            name= children.attrs[\"title\"]\n",
    "        if(children.name == \"small\" and not str.__contains__(children.text ,\"(a.g.)\")):\n",
    "            if(dic.get(name) != None):\n",
    "                dic[name] += 1\n",
    "            else:\n",
    "                dic[name] = 1\n",
    "print(sorted(dic, key = lambda name: dic[name], reverse=True)[:10])\n",
    "\n"
   ]
  },
  {
   "cell_type": "code",
   "execution_count": 6,
   "metadata": {},
   "outputs": [
    {
     "name": "stdout",
     "output_type": "stream",
     "text": [
      "0.75\n",
      "2.0\n"
     ]
    }
   ],
   "source": [
    "find_quarters_and_final = server_Chorme[\"server\"].select(\"#mw-content-text\")[0].select(\".mw-parser-output\")[0].contents\n",
    "def find_fase_mean(fase, Type):\n",
    "    boolean = False\n",
    "    score = 0;\n",
    "    rounds = 0\n",
    "    for children in find_quarters_and_final:\n",
    "        if( children.name == \"h3\"):\n",
    "            boolean = False\n",
    "        if( children.name == \"h3\" and children.select(\"span\")[0].text == fase):\n",
    "            boolean = True\n",
    "        if( boolean == True and children.name == \"table\"):\n",
    "            score += goals_local(children.select(\"tbody tr td span b\"))[Type]\n",
    "            rounds += 1\n",
    "\n",
    "    return score / rounds\n",
    "print(find_fase_mean(\"Cuartos de final\", \"local\"))\n",
    "print(find_fase_mean(\"Final\", \"local\"))"
   ]
  },
  {
   "cell_type": "code",
   "execution_count": null,
   "metadata": {},
   "outputs": [],
   "source": []
  }
 ],
 "metadata": {
  "kernelspec": {
   "display_name": "Python 3",
   "language": "python",
   "name": "python3"
  },
  "language_info": {
   "codemirror_mode": {
    "name": "ipython",
    "version": 3
   },
   "file_extension": ".py",
   "mimetype": "text/x-python",
   "name": "python",
   "nbconvert_exporter": "python",
   "pygments_lexer": "ipython3",
   "version": "3.7.1"
  }
 },
 "nbformat": 4,
 "nbformat_minor": 2
}
